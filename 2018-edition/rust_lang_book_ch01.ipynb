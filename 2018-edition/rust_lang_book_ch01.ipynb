{
  "nbformat": 4,
  "nbformat_minor": 0,
  "metadata": {
    "colab": {
      "private_outputs": true,
      "provenance": [],
      "authorship_tag": "ABX9TyPW91wEvvlQ4YcpWb0EGWP8"
    },
    "kernelspec": {
      "name": "python3",
      "display_name": "Python 3"
    },
    "language_info": {
      "name": "python"
    }
  },
  "cells": [
    {
      "cell_type": "markdown",
      "source": [
        "Install"
      ],
      "metadata": {
        "id": "W_I9e4cTzOkb"
      }
    },
    {
      "cell_type": "code",
      "execution_count": null,
      "metadata": {
        "id": "6OMC7gz3y1DA"
      },
      "outputs": [],
      "source": [
        "import os\n",
        "\n",
        "if not os.path.exists(\"install.sh\"):\n",
        "  !curl https://sh.rustup.rs -sSf > install.sh\n",
        "\n"
      ]
    },
    {
      "cell_type": "code",
      "source": [
        "!. ./install.sh -y"
      ],
      "metadata": {
        "id": "69UB0p3FzQ9N"
      },
      "execution_count": null,
      "outputs": []
    },
    {
      "cell_type": "code",
      "source": [
        "!source \"$HOME/.cargo/env\""
      ],
      "metadata": {
        "id": "jzd8CkJgzjms"
      },
      "execution_count": null,
      "outputs": []
    },
    {
      "cell_type": "markdown",
      "source": [
        "update"
      ],
      "metadata": {
        "id": "O2lPzR_i0O0O"
      }
    },
    {
      "cell_type": "code",
      "source": [
        "!rustup update"
      ],
      "metadata": {
        "id": "0seU__d80Oit"
      },
      "execution_count": null,
      "outputs": []
    },
    {
      "cell_type": "code",
      "source": [],
      "metadata": {
        "id": "52vgu9Fkz0ZF"
      },
      "execution_count": null,
      "outputs": []
    }
  ]
}